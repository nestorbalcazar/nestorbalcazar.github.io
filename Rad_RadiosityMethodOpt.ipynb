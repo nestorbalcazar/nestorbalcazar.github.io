{
  "nbformat": 4,
  "nbformat_minor": 0,
  "metadata": {
    "colab": {
      "provenance": [],
      "authorship_tag": "ABX9TyObqGbtlwUy+PxLDnGMZ1xL",
      "include_colab_link": true
    },
    "kernelspec": {
      "name": "python3",
      "display_name": "Python 3"
    },
    "language_info": {
      "name": "python"
    }
  },
  "cells": [
    {
      "cell_type": "markdown",
      "metadata": {
        "id": "view-in-github",
        "colab_type": "text"
      },
      "source": [
        "<a href=\"https://colab.research.google.com/github/nestorbalcazar/nestorbalcazar.github.io/blob/master/Rad_RadiosityMethodOpt.ipynb\" target=\"_parent\"><img src=\"https://colab.research.google.com/assets/colab-badge.svg\" alt=\"Open In Colab\"/></a>"
      ]
    },
    {
      "cell_type": "code",
      "execution_count": 8,
      "metadata": {
        "colab": {
          "base_uri": "https://localhost:8080/"
        },
        "id": "XZOxwxJYPTeG",
        "outputId": "bf631e3d-b51c-4875-bfb5-5c96179b0095"
      },
      "outputs": [
        {
          "output_type": "stream",
          "name": "stdout",
          "text": [
            "Matriz de Factores de Forma (Fij):\n",
            "[[0.         0.2511858  0.60919381 0.13962039]\n",
            " [0.33227762 0.         0.52086361 0.14685877]\n",
            " [0.56113987 0.36268838 0.         0.07617175]\n",
            " [0.41886117 0.33305437 0.24808446 0.        ]]\n",
            "S = [1.5        1.13392739 1.62845446 0.5       ]\n",
            "j = [3941.87501068  681.21957098  654.0047731   661.83006504]\n",
            "g = [ 661.93331413 1747.63968826 2509.42639224 2040.22995458]\n",
            "q = [ 3279.94169654 -1066.42011728 -1855.42161914 -1378.39988954]\n",
            "res_qradS = sum(q * S) = -2.7284841053187847e-12\n"
          ]
        }
      ],
      "source": [
        "# ==========================================================================\n",
        "# Subject:    Heat and mass Transfer\n",
        "# Topic:      Radiative transfer. Problem 4.\n",
        "# Author:     Nestor V. Balcazar Arciniega\n",
        "# Updated:    8 November 2024\n",
        "# ==========================================================================\n",
        "# Version:    Python 3.x\n",
        "import numpy as np\n",
        "import matplotlib.pyplot as plt\n",
        "from scipy.optimize import fsolve\n",
        "from scipy.special import iv, kv\n",
        "from scipy.integrate import quad\n",
        "\n",
        "# ==========================================================================\n",
        "# INPUT PARAMETERS\n",
        "sigma = 5.67e-8                    # Constante de Stefan-Boltzmann\n",
        "delta = 1e-15                      # Tolerancia para el criterio de convergencia\n",
        "\n",
        "eps = np.array([0.9, 1, 0.7, 1])   # Emisividad\n",
        "T = np.array([250 + 273.15, 25 + 273.15, 50 + 273.15, 25 + 273.15])  # Temperatura en K\n",
        "\n",
        "# Definir el vector posición de los puntos del contorno cerrado en el sentido de giro del reloj\n",
        "x = np.array([\n",
        "    [0, 0],\n",
        "    [0, 1.5],\n",
        "    [0.5 + 1.5 * np.cos(65 * (np.pi / 180)), 1.5],\n",
        "    [0.5, 0]\n",
        "])\n",
        "\n",
        "# ==========================================================================\n",
        "# CÁLCULO DE LOS FACTORES DE FORMA (Fij)\n",
        "Ni = x.shape[0]  # Número de puntos en el contorno\n",
        "F = np.zeros((Ni, Ni))\n",
        "\n",
        "for i in range(Ni):\n",
        "    p1_i = x[i]\n",
        "    p2_i = x[(i + 1) % Ni]\n",
        "    Li = np.linalg.norm(p1_i - p2_i)\n",
        "    for j in range(Ni):\n",
        "        if i != j:\n",
        "            p1_j = x[j]\n",
        "            p2_j = x[(j + 1) % Ni]\n",
        "            d4 = np.linalg.norm(p1_i - p2_j)\n",
        "            d3 = np.linalg.norm(p2_i - p1_j)\n",
        "            d2 = np.linalg.norm(p1_i - p1_j)\n",
        "            d1 = np.linalg.norm(p2_i - p2_j)\n",
        "            F[i, j] = ((d1 + d2) - (d3 + d4)) / (2 * Li)\n",
        "\n",
        "print(\"Matriz de Factores de Forma (Fij):\")\n",
        "print(F)\n",
        "\n",
        "# ==========================================================================\n",
        "# CÁLCULO ITERATIVO DE RADIOSIDAD j\n",
        "j = eps * sigma * (T ** 4)   # Condición inicial para j (radiosidad)\n",
        "j0 = j.copy()                 # Copia inicial para comparación en la iteración\n",
        "\n",
        "while True:\n",
        "    RHS = (1 - eps) * F @ j  # Producto matricial para el cálculo de RHS en cada i\n",
        "    j = (RHS + eps * sigma * T ** 4) / (1 - (1 - eps) * np.diag(F))\n",
        "\n",
        "    # Cálculo del error y verificación de convergencia\n",
        "    error = np.linalg.norm(j - j0)\n",
        "    if error < delta:\n",
        "        break\n",
        "\n",
        "    # Actualizar j0 para la siguiente iteración\n",
        "    j0 = j.copy()\n",
        "\n",
        "# ==========================================================================\n",
        "# CÁLCULO DE g, q Y res_qradS\n",
        "g = np.sum(F * j, axis=1)      # Suma en cada fila para calcular g\n",
        "q = j - g                      # Diferencia entre j y g\n",
        "\n",
        "# Longitudes de cada segmento en el contorno\n",
        "S = np.array([np.linalg.norm(x[i] - x[(i + 1) % Ni]) for i in range(Ni)])\n",
        "\n",
        "# Producto escalar q * S\n",
        "res_qradS = np.sum(q * S)\n",
        "\n",
        "# Mostrar resultados finales\n",
        "print(\"S =\", S)\n",
        "print(\"j =\", j)\n",
        "print(\"g =\", g)\n",
        "print(\"q =\", q)\n",
        "print(\"res_qradS = sum(q * S) =\", res_qradS)\n"
      ]
    },
    {
      "cell_type": "code",
      "source": [],
      "metadata": {
        "id": "951wf2nqPe0A"
      },
      "execution_count": null,
      "outputs": []
    }
  ]
}