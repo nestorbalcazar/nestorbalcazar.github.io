{
  "nbformat": 4,
  "nbformat_minor": 0,
  "metadata": {
    "colab": {
      "provenance": [],
      "include_colab_link": true
    },
    "kernelspec": {
      "name": "python3",
      "display_name": "Python 3"
    },
    "language_info": {
      "name": "python"
    }
  },
  "cells": [
    {
      "cell_type": "markdown",
      "metadata": {
        "id": "view-in-github",
        "colab_type": "text"
      },
      "source": [
        "<a href=\"https://colab.research.google.com/github/nestorbalcazar/nestorbalcazar.github.io/blob/master/Fins_P03a_ConvectiveEnd_BesselFunction.ipynb\" target=\"_parent\"><img src=\"https://colab.research.google.com/assets/colab-badge.svg\" alt=\"Open In Colab\"/></a>"
      ]
    },
    {
      "cell_type": "markdown",
      "source": [
        "  \n",
        "### ==========================================================================\n",
        "### Subject:    Heat and Mass Transfer\n",
        "### Topic:      Tube with $N_a$ circular fins (Convective end).  Solution with Bessel functions.\n",
        "### Author:     Prof. Nestor Balcazar Arciniega\n",
        "### Updated:    28 February 2023\n",
        "### =========================================================================="
      ],
      "metadata": {
        "id": "6FLtdzrR3rb_"
      }
    },
    {
      "cell_type": "code",
      "execution_count": null,
      "metadata": {
        "colab": {
          "base_uri": "https://localhost:8080/"
        },
        "id": "A1tqraTcJOAX",
        "outputId": "1fc35964-ee7e-4b28-b382-52f038c70f19",
        "collapsed": true
      },
      "outputs": [
        {
          "output_type": "stream",
          "name": "stdout",
          "text": [
            "Requirement already satisfied: numpy in /usr/local/lib/python3.10/dist-packages (1.26.4)\n",
            "Requirement already satisfied: scipy in /usr/local/lib/python3.10/dist-packages (1.13.1)\n",
            "Requirement already satisfied: matplotlib in /usr/local/lib/python3.10/dist-packages (3.7.1)\n",
            "Requirement already satisfied: contourpy>=1.0.1 in /usr/local/lib/python3.10/dist-packages (from matplotlib) (1.3.0)\n",
            "Requirement already satisfied: cycler>=0.10 in /usr/local/lib/python3.10/dist-packages (from matplotlib) (0.12.1)\n",
            "Requirement already satisfied: fonttools>=4.22.0 in /usr/local/lib/python3.10/dist-packages (from matplotlib) (4.53.1)\n",
            "Requirement already satisfied: kiwisolver>=1.0.1 in /usr/local/lib/python3.10/dist-packages (from matplotlib) (1.4.7)\n",
            "Requirement already satisfied: packaging>=20.0 in /usr/local/lib/python3.10/dist-packages (from matplotlib) (24.1)\n",
            "Requirement already satisfied: pillow>=6.2.0 in /usr/local/lib/python3.10/dist-packages (from matplotlib) (10.4.0)\n",
            "Requirement already satisfied: pyparsing>=2.3.1 in /usr/local/lib/python3.10/dist-packages (from matplotlib) (3.1.4)\n",
            "Requirement already satisfied: python-dateutil>=2.7 in /usr/local/lib/python3.10/dist-packages (from matplotlib) (2.8.2)\n",
            "Requirement already satisfied: six>=1.5 in /usr/local/lib/python3.10/dist-packages (from python-dateutil>=2.7->matplotlib) (1.16.0)\n"
          ]
        }
      ],
      "source": [
        "!pip install numpy scipy matplotlib"
      ]
    },
    {
      "cell_type": "markdown",
      "source": [
        "### $\\mathrm{\\textbf{Step}\\, \\textbf{1}}$. The temperature field and heat flux are obtained for each subsystem, i.e., cylinder and circular fin, in terms of the unknows $\\{ T_1, T_2, C_3,C_4,\\dot{Q}_{a1}, \\dot{Q}_{a2}\\}$.\n",
        "### Cylinder: $T_c(r)$ and $\\dot{q}_{r,c}(r)$,\n",
        "\\begin{align}\n",
        "T_c(r) = -\\frac{\\dot{q}_v}{4 \\lambda_c}\\left( r^2 - R_1^2 \\right)+T_1, \\\\\n",
        "\\dot{q}_{r,c}(r) = -\\lambda_c (\\nabla T_c)\\cdot \\textbf{e}_r = -\\lambda_c \\left( -\\frac{\\dot{q}_v r}{2 \\lambda_c}  \\right) \\\\ \\\\\n",
        "\\end{align}\n",
        "### Circular fin: $T_a(r)$ and $\\dot{q}_{r,a}(r)$,\n",
        "\\begin{align}\n",
        "T_a(r) = T_g + C_3 I_0(m\\,r)+ C_4 K_0(m\\,r), \\\\\n",
        "\\dot{q}_{r,a}(r) = -\\lambda_a (\\nabla T_a)\\cdot \\textbf{e}_r = -\\lambda_a\\, m \\left(  C_3 I_1(m\\,r)- C_4 K_1(m\\,r) \\right) \\\\ \\\\\n",
        "\\end{align}\n",
        "### $\\mathrm{\\textbf{Step}\\, \\textbf{2}}$. The unknows $\\{T_1,T_2,C_3,C_4,\\dot{Q}_{a1},\\dot{Q}_{a2} \\}$ are obtained from the local energy balances on the surfaces $S_{1}$ and $S_{a2}$:\n",
        "\\begin{align}\n",
        "0 =& -\\{\\alpha_g (T_1-T_g)(S_1-N_aS_{a1})+N_a\\dot{Q}_{a1}\\} + \\dot{q}_v V_c ,\\, \\, \\, \\,  \\mathrm{Eq.(1), 2\\, unknowns  \\, (T_{1},\\dot{Q}_{a1}). Energy \\, balance\\, at\\, the\\, surface\\, S_1}\n",
        "\\\\ \\\\\n",
        "T_a (R_1) =& T_1 = T_g + C_3 I_0 (m R_1) + C_4 K_0 (m R_1) ,\\, \\, \\, \\, \\mathrm{Eq.(2), 4\\, unknowns  \\, (C_3,C_4). }\n",
        "\\\\ \\\\\n",
        "\\dot{Q}_{a1} =& - \\lambda_a m \\left( C_3 I_1(m R_1) - C_4 K_1(m R_1) \\right) S_{a1} ,\\, \\, \\, \\, \\mathrm{Eq.(3), 4 \\, unknowns.}\n",
        "\\\\  \\\\\n",
        "\\dot{Q}_{a2} =& -\\lambda_a m \\left(C_3 I_0(m R_2) - C_4 K_0(m R_2) \\right) S_{a2}  ,\\, \\, \\, \\, \\mathrm{Eq.(4), 5 \\, unknowns \\, (\\dot{Q}_{a2}).}\n",
        "\\\\  \\\\\n",
        "0  =& \\dot{Q}_{a2} - \\alpha_g (T_2 - T_g) S_{a2} ,\\, \\, \\, \\, \\mathrm{Eq.(5), 6 \\, unknowns \\, (T_2).  Energy \\, balance\\, at\\, the\\, surface\\, S_{a_2}}\n",
        "\\\\  \\\\\n",
        "T_a (R_2) =& T_2 = T_g + C_3 I_0 (m R_2) + C_4 K_0 (m R_2) ,\\, \\, \\, \\, \\mathrm{Eq.(6), 6 \\, unknowns. }\n",
        "\\\\ \\\\\n",
        "\\end{align}\n",
        "### Eq.(1-6) are equivalent to the following system of algebraic equations, which has to be numerically solved:\n",
        "\\begin{align*}\n",
        "    F_1(T_1, \\dot{Q}_{a1}) &= 0 \\\\\n",
        "    F_2(C_3, C_4, T_1) &= 0 \\\\\n",
        "    F_3(C_3, C_4, \\dot{Q}_{a1}) &= 0 \\\\\n",
        "    F_4(C_3, C_4, \\dot{Q}_{a2}) &= 0 \\\\\n",
        "    F_5(\\dot{Q}_{a2}, T_2) &= 0 \\\\\n",
        "    F_6(C_3, C_4, T_2) &= 0\n",
        "\\\\ \\\\\n",
        "\\end{align*}\n",
        "### $\\mathrm{\\textbf{Step}\\, \\textbf{3}}$. For verification, the global energy balance is performed as follows:\n",
        "\\begin{align*}\n",
        "\\{ \\mathrm{Accummulation \\,rate} \\} =& \\{\\mathrm{Input \\, velocity} \\} - \\{ \\mathrm{Output \\, velocity} \\} + \\{\\mathrm{Generation}\\}\n",
        "\\\\ \\\\\n",
        "\\{0\\}  =& \\{0\\} - \\left\\{ \\alpha_g (T_1 - T_g) (S_1 - N_a S_{a1}) + N_a \\left( \\int_{A_a} \\alpha_g (T_a - T_g) dA_{a} + \\alpha_g (T_2 - T_g) S_{a2} \\right)  \\right\\} + \\left\\{ \\dot{q}_{v} V_c \\right\\}.\n",
        "\\end{align*}"
      ],
      "metadata": {
        "id": "VT63opTvZ_iB"
      }
    },
    {
      "cell_type": "code",
      "source": [
        "# ==========================================================================\n",
        "# Subject:    Heat and Mass Transfer\n",
        "# Topic:      Tube with circular fins (Convective end.  Solving with Bessel functions)\n",
        "# Author:     Nestor V. Balcazar Arciniega\n",
        "# Updated:    28 February 2023\n",
        "# ==========================================================================\n",
        "# Version:    Python 3.x\n",
        "import numpy as np\n",
        "import matplotlib.pyplot as plt\n",
        "from scipy.optimize import fsolve\n",
        "from scipy.special import iv, kv\n",
        "from scipy.integrate import quad\n",
        "\n",
        "# ==========================================================================\n",
        "# INPUT PARAMETERS\n",
        "R1 = 0.005  # m\n",
        "R2 = 0.0225  # m\n",
        "H = 1.2  # m\n",
        "Vt = np.pi * (R1**2) * H  # m3\n",
        "S1 = 2 * np.pi * R1 * H\n",
        "ea = 0.003  # m\n",
        "Na = 140\n",
        "alphaG = 450  # W/m^2 K\n",
        "TG = 20  # C\n",
        "lambdat = 70.0  # W/(m C)\n",
        "lambdaa = 70.0  # W/(m C)\n",
        "qv = 1e8  # W/m3. Prove with {0, 1e8, 1e9}\n",
        "Aa = 2 * np.pi * (R2**2 - R1**2)\n",
        "Sa1 = 2 * np.pi * R1 * ea\n",
        "Sa2 = 2 * np.pi * R2 * ea\n",
        "ma = np.sqrt(2 * alphaG / (lambdaa * ea))\n",
        "\n",
        "# ==========================================================================\n",
        "# NUMERICAL RESOLUTION\n",
        "def fun_termot_fin(x):\n",
        "    T1, Qa1, C3, C4, Qa2, T2 = x\n",
        "\n",
        "    # Equations\n",
        "    F = np.zeros(6)\n",
        "    F[0] = -(alphaG * (T1 - TG) * (S1 - Na * Sa1) + Na * Qa1) + qv * Vt\n",
        "    F[1] = Qa1 - (-lambdaa * ma * (C3 * iv(1, ma * R1) - C4 * kv(1, ma * R1)) * Sa1)\n",
        "    F[2] = T1 - (TG + C3 * iv(0, ma * R1) + C4 * kv(0, ma * R1))\n",
        "    F[3] = Qa2 - (-lambdaa * ma * (C3 * iv(1, ma * R2) - C4 * kv(1, ma * R2)) * Sa2)\n",
        "    F[4] = Qa2 - (alphaG * (T2 - TG) * Sa2)\n",
        "    F[5] = T2 - (TG + C3 * iv(0, ma * R2) + C4 * kv(0, ma * R2))\n",
        "    return F\n",
        "\n",
        "x0 = [TG, 0, 1, 1, 0, TG]  # Initial guess for T1, Qa1, C3, C4, Qa2, T2\n",
        "x = fsolve(fun_termot_fin, x0)\n",
        "T1, Qa1, C3, C4, Qa2, T2 = x\n",
        "\n",
        "# ==========================================================================\n",
        "# VERIFICATION\n",
        "Qv = qv * Vt\n",
        "Q1 = alphaG * (T1 - TG) * (S1 - Na * Sa1) + Na * Qa1\n",
        "Qconv1 = alphaG * (T1 - TG) * (S1 - Na * Sa1)\n",
        "\n",
        "def Qconvar_dAa(r):\n",
        "    return alphaG * ((TG + C3 * iv(0, ma * r) + C4 * kv(0, ma * r)) - TG) * 4 * np.pi * r\n",
        "\n",
        "Qconva, _ = quad(Qconvar_dAa, R1, R2)\n",
        "Qconva += Qa2\n",
        "\n",
        "# Global energy balance\n",
        "Res_GlobEnergyBal = -(Qconv1 + Na * Qconva) + Qv\n",
        "print('=====================================================================')\n",
        "print(f'VERIFICATION')\n",
        "print(f'Global Energy Balance Residual: -(Qconv1 + Na * Qconva) + Qv = {Res_GlobEnergyBal} [W]')\n",
        "print('=====================================================================')\n",
        "# ==========================================================================\n",
        "# POSTPROCESSING\n",
        "\n",
        "# Temperature profiles for Tube\n",
        "drt = R1 / 1000\n",
        "rt = np.arange(0, R1 + drt, drt)\n",
        "Tt = -(qv / (4 * lambdat)) * (rt**2 - R1**2) + T1\n",
        "\n",
        "# Temperature profiles for Circular Fin\n",
        "dra = (R2 - R1) / 1000\n",
        "ra = np.arange(R1, R2 + dra, dra)\n",
        "Ta = TG + C3 * iv(0, ma * ra) + C4 * kv(0, ma * ra)\n",
        "\n",
        "# Plotting\n",
        "plt.figure(figsize=(8, 6))\n",
        "plt.plot(rt, Tt, '-', linewidth=2, color='k', label='Tube')\n",
        "plt.plot(ra, Ta, '-', linewidth=2, color='r', label='Circular Fin')\n",
        "plt.xlabel('r [m]')\n",
        "plt.ylabel('T [C]')\n",
        "plt.title('TUBE AND CIRCULAR FIN')\n",
        "plt.legend()\n",
        "#plt.axis('square')\n",
        "plt.tight_layout()\n",
        "plt.show()\n",
        "\n",
        "# ==========================================================================\n",
        "# Print report function\n",
        "\n",
        "def print_report():\n",
        "    print('=====================================================================')\n",
        "    print('REPORT:')\n",
        "    print(f'T0 = {-(qv / (4 * lambdat)) * (0**2 - R1**2) + T1} [ºC]')\n",
        "    print(f'T1 = {T1} [ºC]')\n",
        "    print(f'T2 = {T2} [ºC]')\n",
        "    print(f'C3 = {C3}')\n",
        "    print(f'C4 = {C4}')\n",
        "    print(f'Qv = {Qv} [W]')\n",
        "    print(f'Q1 = {Q1} [W]')\n",
        "    print(f'Qconv1 = {Qconv1} [W]')\n",
        "    print(f'Qa2 = {Qa2} [W]')\n",
        "    print(f'Qa1 = {Qa1} [W]')\n",
        "    print(f'Qconva = {Qconva} [W]')\n",
        "    print(f'Na = {Na}')\n",
        "    print(f'Na * Qa1 = {Na * Qa1} [W]')\n",
        "    print('=====================================================================')\n",
        "\n",
        "print_report()\n"
      ],
      "metadata": {
        "colab": {
          "base_uri": "https://localhost:8080/",
          "height": 954
        },
        "id": "41Yd7SACJZ18",
        "outputId": "faabe4cb-0411-4c48-dc10-e3b1b50c5066"
      },
      "execution_count": null,
      "outputs": [
        {
          "output_type": "stream",
          "name": "stdout",
          "text": [
            "=====================================================================\n",
            "VERIFICATION\n",
            "Global Energy Balance Residual: -(Qconv1 + Na * Qconva) + Qv = 0.0 [W]\n",
            "=====================================================================\n"
          ]
        },
        {
          "output_type": "display_data",
          "data": {
            "text/plain": [
              "<Figure size 800x600 with 1 Axes>"
            ],
            "image/png": "[encoded data removed]"
          },
          "metadata": {}
        },
        {
          "output_type": "stream",
          "name": "stdout",
          "text": [
            "=====================================================================\n",
            "REPORT:\n",
            "T0 = 108.69531094968197 [ºC]\n",
            "T1 = 99.76673952111054 [ºC]\n",
            "T2 = 51.5835349355919 [ºC]\n",
            "C3 = 12.405789004762248\n",
            "C4 = 51.836924747170606\n",
            "Qv = 9424.77796076938 [W]\n",
            "Q1 = 9424.77796076938 [W]\n",
            "Qconv1 = 879.5870561099634 [W]\n",
            "Qa2 = 6.027773030679164 [W]\n",
            "Qa1 = 61.0370778904244 [W]\n",
            "Qconva = 61.03707789042439 [W]\n",
            "Na = 140\n",
            "Na * Qa1 = 8545.190904659416 [W]\n",
            "=====================================================================\n"
          ]
        }
      ]
    }
  ]
}