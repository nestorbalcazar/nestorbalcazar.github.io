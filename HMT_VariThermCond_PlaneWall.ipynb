{
  "nbformat": 4,
  "nbformat_minor": 0,
  "metadata": {
    "colab": {
      "provenance": [],
      "authorship_tag": "ABX9TyMkO3XVcNsnrBLfd02hgoA2",
      "include_colab_link": true
    },
    "kernelspec": {
      "name": "python3",
      "display_name": "Python 3"
    },
    "language_info": {
      "name": "python"
    }
  },
  "cells": [
    {
      "cell_type": "markdown",
      "metadata": {
        "id": "view-in-github",
        "colab_type": "text"
      },
      "source": [
        "<a href=\"https://colab.research.google.com/github/nestorbalcazar/nestorbalcazar.github.io/blob/master/HMT_VariThermCond_PlaneWall.ipynb\" target=\"_parent\"><img src=\"https://colab.research.google.com/assets/colab-badge.svg\" alt=\"Open In Colab\"/></a>"
      ]
    },
    {
      "cell_type": "code",
      "execution_count": null,
      "metadata": {
        "colab": {
          "base_uri": "https://localhost:8080/"
        },
        "id": "4LQPd-ddcxGf",
        "outputId": "2b6640ee-c56e-4392-fc08-1821fe822650",
        "collapsed": true
      },
      "outputs": [
        {
          "output_type": "stream",
          "name": "stdout",
          "text": [
            "Requirement already satisfied: numpy in /usr/local/lib/python3.10/dist-packages (1.26.4)\n",
            "Requirement already satisfied: matplotlib in /usr/local/lib/python3.10/dist-packages (3.7.1)\n",
            "Requirement already satisfied: scipy in /usr/local/lib/python3.10/dist-packages (1.13.1)\n",
            "Requirement already satisfied: contourpy>=1.0.1 in /usr/local/lib/python3.10/dist-packages (from matplotlib) (1.3.0)\n",
            "Requirement already satisfied: cycler>=0.10 in /usr/local/lib/python3.10/dist-packages (from matplotlib) (0.12.1)\n",
            "Requirement already satisfied: fonttools>=4.22.0 in /usr/local/lib/python3.10/dist-packages (from matplotlib) (4.54.1)\n",
            "Requirement already satisfied: kiwisolver>=1.0.1 in /usr/local/lib/python3.10/dist-packages (from matplotlib) (1.4.7)\n",
            "Requirement already satisfied: packaging>=20.0 in /usr/local/lib/python3.10/dist-packages (from matplotlib) (24.1)\n",
            "Requirement already satisfied: pillow>=6.2.0 in /usr/local/lib/python3.10/dist-packages (from matplotlib) (10.4.0)\n",
            "Requirement already satisfied: pyparsing>=2.3.1 in /usr/local/lib/python3.10/dist-packages (from matplotlib) (3.1.4)\n",
            "Requirement already satisfied: python-dateutil>=2.7 in /usr/local/lib/python3.10/dist-packages (from matplotlib) (2.8.2)\n",
            "Requirement already satisfied: six>=1.5 in /usr/local/lib/python3.10/dist-packages (from python-dateutil>=2.7->matplotlib) (1.16.0)\n"
          ]
        }
      ],
      "source": [
        "!pip install numpy matplotlib scipy"
      ]
    },
    {
      "cell_type": "markdown",
      "source": [
        "$\\textbf{Step 1: T(x) and q(x)} \\\\\n",
        "\\int_{T_0}^{T} \\lambda_I(T) \\, dT = -0.5 \\cdot q_{vI} \\cdot (x^2 - x_0^2) - C_1 \\cdot (x - x_0) \\\\\n",
        "\\lambda_I = f_{\\lambda_I}(T) \\\\\n",
        "q_I(x, C_1) = -(-q_{vI} \\cdot x + C_1) \\\\\n",
        "\\, \\\\\n",
        "\\, \\\\\n",
        "\\textbf{Step 2: Local energy balances} \\\\\n",
        "0 = \\alpha_A \\cdot (T_A - T_0) \\cdot S_0 - q_I(x_0, C_1) \\cdot S_0, \\, \\, \\mathrm{Eq.(1), \\, 2\\,  unknows(T_0, C_1)}. \\\\\n",
        "0 = -\\alpha_B \\cdot (T_1 - T_B) \\cdot S_1 + q_I(x_1, C_1) \\cdot S_1, \\, \\,  \\mathrm{Eq.(2), \\, 3\\, unknows (T_1)}.  \\\\\n",
        "0 = \\int_{T_0}^{T_1} f_\\lambda(T) \\, dT - \\left(-0.5 \\cdot q_{vI} \\cdot (x_1^2 - x_0^2) - C_1 \\cdot (x_1 - x_0)\\right), \\, \\,  \\mathrm{Eq.(3), \\, 3\\,  unknows}. \\\\\n",
        "$"
      ],
      "metadata": {
        "id": "T3GvwfcsN2T_"
      }
    },
    {
      "cell_type": "code",
      "source": [
        "# Plane wall with variable thermal conductivity\n",
        "import numpy as np\n",
        "import matplotlib.pyplot as plt\n",
        "from scipy.optimize import fsolve\n",
        "from scipy.special import iv, kv\n",
        "from scipy.integrate import quad\n",
        "\n",
        "# STEP 0: Input data (reference case)\n",
        "H       = 1  # m\n",
        "W       = 1  # m\n",
        "LI      = 0.1  # m\n",
        "alphaA  = 70  # W/(m2 K)\n",
        "alphaB  = 100  # W/(m2 K)\n",
        "TA      = 20  # C\n",
        "TB      = 150  # C\n",
        "lambdaI = 220  # W/(m K)\n",
        "qvI     = 0    # W/m3\n",
        "\n",
        "# Parameters\n",
        "x0      = 0    # m\n",
        "x1      = x0 + LI\n",
        "S0      = W * H\n",
        "S1      = W * H\n",
        "VI      = W * H * LI\n",
        "\n",
        "#Thermal conductivity\n",
        "a0   = 120\n",
        "a1   = 0.1\n",
        "Tref = 20\n",
        "def fLambda(T):\n",
        "    return a0 + a1*(T-Tref)\n",
        "\n",
        "# STEP 1: T(x) and q(x) for each component\n",
        "def fqI(x, C1):\n",
        "    return -(-qvI * x + C1)\n",
        "\n",
        "# STEP 2: Local energy balances. Numerical Resolution\n",
        "def FunTermotFin(X):\n",
        "    T0, T1, C1 = X\n",
        "\n",
        "    F = np.zeros(3)\n",
        "    F[0] = alphaA * (TA - T0) * S0 - fqI(x0, C1) * S0\n",
        "    F[1] = -alphaB * (T1 - TB) * S1 + fqI(x1, C1) * S1\n",
        "    F[2] = quad(fLambda, T0, T1)[0] - ((-0.5 * qvI * (x1**2 - x0**2)) - C1 * (x1 - x0))\n",
        "\n",
        "    return F\n",
        "\n",
        "X0 = np.array([TA, TB, 1])  # Estimated values [T0, T1, C1]\n",
        "X  = fsolve(FunTermotFin, X0)\n",
        "T0, T1, C1 = X\n",
        "\n",
        "# STEP 3: Verification. Global energy balance\n",
        "Qconv0            = alphaA * (TA - T0) * S0\n",
        "Qconv1            = alphaB * (T1 - TB) * S1\n",
        "QvI               = qvI * VI\n",
        "Res_GlobEnergyBal = Qconv0 - Qconv1 + QvI\n",
        "\n",
        "# Displaying results\n",
        "def printReport():\n",
        "    print(\"==============================================================================\")\n",
        "    print(\"REPORT:\")\n",
        "    print(f\"T0      = {T0:.6f} [C]\")\n",
        "    print(f\"T1      = {T1:.6f} [C]\")\n",
        "    print(f\"C1      = {C1:.6f}\")\n",
        "    print(\"Global energy balance:\")\n",
        "    print(f\"Res_GlobEnergyBal = Qconv0 - Qconv1 + QvI = {Res_GlobEnergyBal:.6f} [W]\")\n",
        "    print(\"==============================================================================\")\n",
        "\n",
        "# Print the report\n",
        "printReport()\n",
        "\n",
        "def eqfTI(T, x):\n",
        "    return quad(fLambda, T0, T)[0] - ((-0.5 * qvI * (x**2 - x0**2)) - C1 * (x - x0))\n",
        "\n",
        "# Valores de x en el intervalo [x0, x1]\n",
        "xI  = np.linspace(x0, x1, 100)\n",
        "TI  = []\n",
        "\n",
        "for x in xI:\n",
        "    T_solution = fsolve(eqfTI, T0, args=(x))[0]\n",
        "    TI.append(T_solution)\n",
        "\n",
        "TI = np.array(TI)\n",
        "\n",
        "# Graficar T vs x\n",
        "plt.plot(xI, TI, label=\"T(x)\")\n",
        "plt.xlabel(\"x [m]\")\n",
        "plt.ylabel(\"T [°C]\")\n",
        "plt.title(\"T(x) \")\n",
        "plt.legend()\n",
        "plt.grid(True)\n",
        "plt.axis('tight')\n",
        "plt.show()"
      ],
      "metadata": {
        "id": "G_lBujEpc6YY",
        "colab": {
          "base_uri": "https://localhost:8080/",
          "height": 611
        },
        "outputId": "8351ace0-4ad3-43c7-cb19-49e13286ced1"
      },
      "execution_count": null,
      "outputs": [
        {
          "output_type": "stream",
          "name": "stdout",
          "text": [
            "==============================================================================\n",
            "REPORT:\n",
            "T0      = 99.018819 [C]\n",
            "T1      = 94.686826 [C]\n",
            "C1      = 5531.317354\n",
            "Global energy balance:\n",
            "Res_GlobEnergyBal = Qconv0 - Qconv1 + QvI = 0.000000 [W]\n",
            "==============================================================================\n"
          ]
        },
        {
          "output_type": "display_data",
          "data": {
            "text/plain": [
              "<Figure size 640x480 with 1 Axes>"
            ],
            "image/png": "[encoded data removed]"
          },
          "metadata": {}
        }
      ]
    }
  ]
}