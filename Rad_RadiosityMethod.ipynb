{
  "nbformat": 4,
  "nbformat_minor": 0,
  "metadata": {
    "colab": {
      "provenance": [],
      "authorship_tag": "ABX9TyNd5e75WCy4PGPQFyuo1LQE",
      "include_colab_link": true
    },
    "kernelspec": {
      "name": "python3",
      "display_name": "Python 3"
    },
    "language_info": {
      "name": "python"
    }
  },
  "cells": [
    {
      "cell_type": "markdown",
      "metadata": {
        "id": "view-in-github",
        "colab_type": "text"
      },
      "source": [
        "<a href=\"https://colab.research.google.com/github/nestorbalcazar/nestorbalcazar.github.io/blob/master/Rad_RadiosityMethod.ipynb\" target=\"_parent\"><img src=\"https://colab.research.google.com/assets/colab-badge.svg\" alt=\"Open In Colab\"/></a>"
      ]
    },
    {
      "cell_type": "markdown",
      "source": [
        "### ==========================================================================\n",
        "### Subject:    Heat and mass Transfer\n",
        "### Topic:      Radiative transfer.\n",
        "### Author:     Prof. Nestor Balcazar Arciniega\n",
        "### Updated:    5 November 2024\n",
        "### =========================================================================="
      ],
      "metadata": {
        "id": "QGuYQWnQmI3h"
      }
    },
    {
      "cell_type": "code",
      "execution_count": 42,
      "metadata": {
        "colab": {
          "base_uri": "https://localhost:8080/"
        },
        "id": "uXnXxhi9lYj-",
        "outputId": "40b84f7a-17f2-4294-b70b-b2476e749f53"
      },
      "outputs": [
        {
          "output_type": "stream",
          "name": "stdout",
          "text": [
            "Matriz de Factores de Forma (Fij):\n",
            "[[0.         0.2511858  0.60919381 0.13962039]\n",
            " [0.33227762 0.         0.52086361 0.14685877]\n",
            " [0.56113987 0.36268838 0.         0.07617175]\n",
            " [0.41886117 0.33305437 0.24808446 0.        ]]\n",
            "Valores finales de j: [3909.91765452  448.04569997 1150.00247045  448.04569997]\n",
            "g: [ 875.67342086 1963.97201517 2390.64006192 2072.2340066 ]\n",
            "q: [ 3034.24423366 -1515.92631521 -1240.63759146 -1624.18830663]\n",
            "S = [1.5        1.13392739 1.62845446 0.5       ]\n",
            "res_qradS = sum(q * S) = -4.547473508864641e-13\n"
          ]
        }
      ],
      "source": [
        "# ==========================================================================\n",
        "# Subject:    Heat and mass Transfer\n",
        "# Topic:      Radiative transfer. Problem 4.\n",
        "# Author:     Nestor V. Balcazar Arciniega\n",
        "# Updated:    8 November 2024\n",
        "# ==========================================================================\n",
        "# Version:    Python 3.x\n",
        "import numpy as np\n",
        "import matplotlib.pyplot as plt\n",
        "from scipy.optimize import fsolve\n",
        "from scipy.special import iv, kv\n",
        "from scipy.integrate import quad\n",
        "\n",
        "# ==========================================================================\n",
        "# INPUT PARAMETERS\n",
        "sigma = 5.67e-8                    # Constante de Stefan-Boltzmann\n",
        "delta = 1e-13                      # Tolerancia para el criterio de convergencia\n",
        "\n",
        "eps   = np.array([0.9, 1, 0.7, 1]) #Emissivity\n",
        "T     = np.array([250+273.15, 25+273.15, 50+273.15, 25+273.15])   #Temperature\n",
        "\n",
        "# Definir el vector posición de los puntos del contorno cerrado en el sentido de giro del reloj\n",
        "x = np.array([\n",
        "    [0, 0],\n",
        "    [0, 1.5],\n",
        "    [0.5 + 1.5 * np.cos(65 * (np.pi / 180)), 1.5],\n",
        "    [0.5, 0]\n",
        "])\n",
        "\n",
        "#VIEW FACTORS\n",
        "# Número de puntos en el contorno\n",
        "Ni = x.shape[0]\n",
        "\n",
        "# Inicializar la matriz de factores de forma\n",
        "F = np.zeros((Ni, Ni))\n",
        "\n",
        "# Función para calcular la distancia euclidiana entre dos puntos\n",
        "def distance(p1, p2):\n",
        "    return np.linalg.norm(p1 - p2)\n",
        "\n",
        "# Calcular los factores de forma utilizando el método de Hottel\n",
        "for i in range(Ni):\n",
        "    for j in range(Ni):\n",
        "        if i != j:  # No calculamos el factor de forma de un segmento consigo mismo\n",
        "            # Puntos del segmento i\n",
        "            p1_i = x[i]\n",
        "            p2_i = x[(i + 1) % Ni]\n",
        "\n",
        "            # Puntos del segmento j\n",
        "            p1_j = x[j]\n",
        "            p2_j = x[(j + 1) % Ni]\n",
        "\n",
        "            # Distancias entre puntos\n",
        "            d4 = distance(p1_i, p2_j)\n",
        "            d3 = distance(p2_i, p1_j)\n",
        "            d2 = distance(p1_i, p1_j)\n",
        "            d1 = distance(p2_i, p2_j)\n",
        "\n",
        "            # Longitud del segmento i\n",
        "            Li = distance(p1_i, p2_i)\n",
        "\n",
        "            # Factor de forma entre los segmentos i y j\n",
        "            F[i, j] = ( (d1 + d2) - (d3 + d4) ) / (2 * Li)\n",
        "\n",
        "# Imprimir la matriz de factores de forma\n",
        "print(\"Matriz de Factores de Forma (Fij):\")\n",
        "print(F)\n",
        "# ==========================================================================\n",
        "# Valores iniciales de j0 basados en las temperaturas iniciales\n",
        "j  = eps * sigma * (T ** 4)          # Calcula j0 usando la ecuación de cuerpo negro\n",
        "j0 = j.copy()                       # Copia inicial de j para iteración\n",
        "\n",
        "# Bucle de iteración\n",
        "while True:\n",
        "    for i in range(Ni):\n",
        "        RHS = 0\n",
        "        for k in range(Ni):  # Cambiamos el índice de bucle interno a `k`\n",
        "            if i != k:  # Condición para excluir i == k\n",
        "                RHS += (1 - eps[i]) * F[i, k] * j0[k]  # Acumulación del término RHS\n",
        "\n",
        "        # Actualización de j(i) según la fórmula\n",
        "        j[i] = (1.0 / (1 - (1 - eps[i]) * F[i, i])) * (RHS + eps[i] * sigma * T[i] ** 4)\n",
        "\n",
        "    # Cálculo del error y comprobación del criterio de convergencia\n",
        "    error = np.linalg.norm(j - j0)  # Norma de la diferencia entre j actual y j previo\n",
        "    if error < delta:\n",
        "        break  # Condición de salida del bucle si el error es menor que delta\n",
        "\n",
        "    # Actualización de j0 para la siguiente iteración\n",
        "    j0 = j.copy()\n",
        "\n",
        "# Mostrar resultado final\n",
        "print(\"Valores finales de j:\", j)\n",
        "\n",
        "g = np.sum(F * j, axis=1)\n",
        "\n",
        "# Calcular q como la diferencia entre j y g\n",
        "q = j - g\n",
        "\n",
        "# Mostrar los resultados\n",
        "print(\"g:\", g)\n",
        "print(\"q:\", q)\n",
        "\n",
        "# Area of the surfaces\n",
        "# Inicializar el vector S\n",
        "S = np.zeros(Ni)\n",
        "for i in range(Ni):\n",
        "    S[i] = np.linalg.norm(x[i, :] - x[(i + 1) % Ni, :])\n",
        "\n",
        "# Calcular res_qradS como el producto escalar entre q y S\n",
        "res_qradS = np.sum(q * S)\n",
        "\n",
        "# Mostrar el resultado\n",
        "print(\"S =\", S)\n",
        "print(\"res_qradS = sum(q * S) =\", res_qradS)"
      ]
    },
    {
      "cell_type": "code",
      "source": [],
      "metadata": {
        "id": "1fma_5Q1ucGK"
      },
      "execution_count": 29,
      "outputs": []
    }
  ]
}